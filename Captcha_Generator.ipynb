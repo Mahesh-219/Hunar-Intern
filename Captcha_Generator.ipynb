{
  "nbformat": 4,
  "nbformat_minor": 0,
  "metadata": {
    "colab": {
      "private_outputs": true,
      "provenance": [],
      "authorship_tag": "ABX9TyN2zdnzPfbtIrhfLdNy8OtP",
      "include_colab_link": true
    },
    "kernelspec": {
      "name": "python3",
      "display_name": "Python 3"
    },
    "language_info": {
      "name": "python"
    }
  },
  "cells": [
    {
      "cell_type": "markdown",
      "metadata": {
        "id": "view-in-github",
        "colab_type": "text"
      },
      "source": [
        "<a href=\"https://colab.research.google.com/github/Mahesh-219/Hunar-Intern/blob/main/Captcha_Generator.ipynb\" target=\"_parent\"><img src=\"https://colab.research.google.com/assets/colab-badge.svg\" alt=\"Open In Colab\"/></a>"
      ]
    },
    {
      "cell_type": "code",
      "source": [
        "import secrets\n",
        "import string\n",
        "\n",
        "def generate_captcha(length=5):\n",
        "\n",
        "    if not isinstance(length, int) or length <= 0:\n",
        "        raise ValueError(\"Length must be a positive integer\")\n",
        "\n",
        "    characters = string.ascii_letters + string.digits\n",
        "    captcha = ''.join(secrets.choice(characters) for _ in range(length))\n",
        "    return captcha\n",
        "\n",
        "print(generate_captcha())"
      ],
      "metadata": {
        "id": "2Nycx3q0y1py"
      },
      "execution_count": null,
      "outputs": []
    }
  ]
}